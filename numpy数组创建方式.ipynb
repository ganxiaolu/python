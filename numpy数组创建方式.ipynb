{
 "cells": [
  {
   "cell_type": "code",
   "execution_count": 4,
   "metadata": {},
   "outputs": [],
   "source": [
    "import numpy as np"
   ]
  },
  {
   "cell_type": "code",
   "execution_count": 6,
   "metadata": {},
   "outputs": [
    {
     "data": {
      "text/plain": [
       "array([[0.29540213, 0.58072479, 0.4035937 ],\n",
       "       [0.85043997, 0.57555037, 0.81086982]])"
      ]
     },
     "execution_count": 6,
     "metadata": {},
     "output_type": "execute_result"
    }
   ],
   "source": [
    "#1.np.random.random生成N行M列的数组，其中元素值为0-1的随机数\n",
    "d=np.random.random((2,3))\n",
    "d"
   ]
  },
  {
   "cell_type": "code",
   "execution_count": 7,
   "metadata": {},
   "outputs": [
    {
     "data": {
      "text/plain": [
       "array([1, 2, 3, 4])"
      ]
     },
     "execution_count": 7,
     "metadata": {},
     "output_type": "execute_result"
    }
   ],
   "source": [
    "#2.使用np.array来创建数组\n",
    "a = np.array([1,2,3,4])\n",
    "a"
   ]
  },
  {
   "cell_type": "code",
   "execution_count": 8,
   "metadata": {},
   "outputs": [
    {
     "data": {
      "text/plain": [
       "array([0, 2, 4, 6, 8])"
      ]
     },
     "execution_count": 8,
     "metadata": {},
     "output_type": "execute_result"
    }
   ],
   "source": [
    "#3.使用np.arange来创建数组\n",
    "b = np.arange(0,10)\n",
    "b = np.arange(0,10,2)#2为步长\n",
    "b"
   ]
  },
  {
   "cell_type": "code",
   "execution_count": 15,
   "metadata": {},
   "outputs": [
    {
     "data": {
      "text/plain": [
       "array([[4, 7, 8, 7],\n",
       "       [5, 7, 0, 8],\n",
       "       [5, 0, 0, 1],\n",
       "       [2, 5, 4, 2]])"
      ]
     },
     "execution_count": 15,
     "metadata": {},
     "output_type": "execute_result"
    }
   ],
   "source": [
    "#4.使用np.random.randint来创建一个N行N列的数组，其中元素值的范围可以通过前面两个参数来定\n",
    "c = np.random.randint(0,9,size=(4,4))\n",
    "c"
   ]
  },
  {
   "cell_type": "code",
   "execution_count": 19,
   "metadata": {},
   "outputs": [
    {
     "name": "stdout",
     "output_type": "stream",
     "text": [
      "a1: [[0. 0.]\n",
      " [0. 0.]]\n",
      "a2: [[1. 1.]\n",
      " [1. 1.]\n",
      " [1. 1.]]\n",
      "a3: [[8 8]\n",
      " [8 8]]\n",
      "a4: [[1. 0. 0.]\n",
      " [0. 1. 0.]\n",
      " [0. 0. 1.]]\n"
     ]
    }
   ],
   "source": [
    "#5.使用函数生成特殊的数组\n",
    "a1 = np.zeros((2,2))\n",
    "a2 = np.ones((3,2))\n",
    "a3 = np.full((2,2),8)#生成一个所有元素都是8的2行2列的元素\n",
    "a4 = np.eye(3)#生成一个主对角线为1，其他元素为0的3x3的矩阵\n",
    "\n",
    "print(\"a1:\",a1)\n",
    "print(\"a2:\",a2)\n",
    "print(\"a3:\",a3)\n",
    "print(\"a4:\",a4)"
   ]
  }
 ],
 "metadata": {
  "kernelspec": {
   "display_name": "Python 3",
   "language": "python",
   "name": "python3"
  },
  "language_info": {
   "codemirror_mode": {
    "name": "ipython",
    "version": 3
   },
   "file_extension": ".py",
   "mimetype": "text/x-python",
   "name": "python",
   "nbconvert_exporter": "python",
   "pygments_lexer": "ipython3",
   "version": "3.6.5"
  }
 },
 "nbformat": 4,
 "nbformat_minor": 4
}
